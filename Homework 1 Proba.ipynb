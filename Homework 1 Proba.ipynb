{
 "cells": [
  {
   "cell_type": "markdown",
   "metadata": {},
   "source": [
    "# Exercise 6 #\n"
   ]
  },
  {
   "cell_type": "markdown",
   "metadata": {},
   "source": [
    "In this code you match a certain number to a constant, then you put a letter to print on the screen and put a phrase and instead of putting the number or phrase that you have matched at first you put the variable and when running the code should appear the saved data "
   ]
  },
  {
   "cell_type": "code",
   "execution_count": 18,
   "metadata": {
    "scrolled": true
   },
   "outputs": [
    {
     "name": "stdout",
     "output_type": "stream",
     "text": [
      "there are 8 kinds of cars\n",
      "And too there are 8 kinds of motorcycles\n"
     ]
    }
   ],
   "source": [
    "\n",
    "\n",
    "\n",
    "types_of_cars= 8\n",
    "types_of_motorcycles=8\n",
    "\n",
    "x = f\"there are {types_of_cars} kinds of cars\"\n",
    "\n",
    "y = f\"And too there are {types_of_motorcycles} kinds of motorcycles\"\n",
    "\n",
    "print (x)\n",
    "print (y)\n"
   ]
  },
  {
   "cell_type": "markdown",
   "metadata": {},
   "source": [
    "   # Exercise 7 #"
   ]
  },
  {
   "cell_type": "markdown",
   "metadata": {},
   "source": [
    "On this occasion we continue printing on screen, after each letter of a name we keep it in a constant, then make a sum where we add the name we give to the place where we save the data and at the end it will show us what the data is saving one after another"
   ]
  },
  {
   "cell_type": "code",
   "execution_count": 31,
   "metadata": {},
   "outputs": [
    {
     "name": "stdout",
     "output_type": "stream",
     "text": [
      "Oliver likes the box\n",
      "For him it is an interesting sport where you have to think a lot\n",
      "So,he is waiting to watch the fight of the\n",
      "CANELO\n"
     ]
    }
   ],
   "source": [
    "print (\"Oliver likes the box\")\n",
    "print (\"For him it is an interesting sport where you have to think a lot\")\n",
    "print (\"So,he is waiting to watch the fight of the\")\n",
    "end1 = \"C\"\n",
    "end2 = \"A\"\n",
    "end3 = \"N\"\n",
    "end4 = \"E\"\n",
    "end5 = \"L\"\n",
    "end6 = \"O\"\n",
    "print (end1 + end2 + end3 + end4 + end5 + end6)"
   ]
  },
  {
   "cell_type": "markdown",
   "metadata": {},
   "source": [
    "# Exercise 8 #"
   ]
  },
  {
   "cell_type": "markdown",
   "metadata": {},
   "source": [
    "this code looks difficult, but it's almost the same as the previous ones where you save data this time it will be in the keys"
   ]
  },
  {
   "cell_type": "code",
   "execution_count": 39,
   "metadata": {},
   "outputs": [
    {
     "name": "stdout",
     "output_type": "stream",
     "text": [
      "1  2  3  4\n",
      "one  two  three  four\n",
      "True  False  False  True\n",
      "{}  {}  {}  {}  {}  {}  {}  {}  {}  {}  {}  {}  {}  {}  {}  {}\n"
     ]
    }
   ],
   "source": [
    "\n",
    "formatter = \"{}  {}  {}  {}\"\n",
    "print(formatter.format(1, 2, 3, 4))\n",
    "print(formatter.format(\"one\", \"two\", \"three\", \"four\"))\n",
    "print(formatter.format(True, False, False, True))\n",
    "print(formatter.format(formatter, formatter, formatter, formatter))\n",
    "\n"
   ]
  },
  {
   "cell_type": "markdown",
   "metadata": {},
   "source": [
    "# Exercise 9 #"
   ]
  },
  {
   "cell_type": "markdown",
   "metadata": {},
   "source": [
    "this time we will add several data in \"days in\" months \"but by saving them all together\n",
    "and print screen, we will see all the data that was saved"
   ]
  },
  {
   "cell_type": "code",
   "execution_count": 41,
   "metadata": {},
   "outputs": [
    {
     "name": "stdout",
     "output_type": "stream",
     "text": [
      "The days of the weak are:  Monday Tuesday Wednesday Thursday Friday Saturday Sunday\n"
     ]
    }
   ],
   "source": [
    "days=\"Monday Tuesday Wednesday Thursday Friday Saturday Sunday\"\n",
    "\n",
    "\n",
    "print(\"The days of the weak are: \", days)"
   ]
  },
  {
   "cell_type": "markdown",
   "metadata": {},
   "source": [
    "#  Exercise 10#"
   ]
  },
  {
   "cell_type": "code",
   "execution_count": null,
   "metadata": {},
   "outputs": [],
   "source": [
    "this is almost the same case is just print the things that is indicated"
   ]
  },
  {
   "cell_type": "code",
   "execution_count": 43,
   "metadata": {},
   "outputs": [
    {
     "name": "stdout",
     "output_type": "stream",
     "text": [
      "\tI´m tabbed in.\n"
     ]
    }
   ],
   "source": [
    "tabby_cat = \"\\tI´m tabbed in.\"\n",
    "print (tabby_cat)"
   ]
  }
 ],
 "metadata": {
  "kernelspec": {
   "display_name": "Python 3",
   "language": "python",
   "name": "python3"
  },
  "language_info": {
   "codemirror_mode": {
    "name": "ipython",
    "version": 3
   },
   "file_extension": ".py",
   "mimetype": "text/x-python",
   "name": "python",
   "nbconvert_exporter": "python",
   "pygments_lexer": "ipython3",
   "version": "3.7.4"
  }
 },
 "nbformat": 4,
 "nbformat_minor": 2
}
